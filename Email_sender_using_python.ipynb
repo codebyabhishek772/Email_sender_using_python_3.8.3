{
  "nbformat": 4,
  "nbformat_minor": 0,
  "metadata": {
    "colab": {
      "name": "Email_sender_using_python.ipynb",
      "provenance": [],
      "collapsed_sections": [],
      "authorship_tag": "ABX9TyNVNxwMMUkVodECtfN1RGiY",
      "include_colab_link": true
    },
    "kernelspec": {
      "name": "python3",
      "display_name": "Python 3"
    }
  },
  "cells": [
    {
      "cell_type": "markdown",
      "metadata": {
        "id": "view-in-github",
        "colab_type": "text"
      },
      "source": [
        "<a href=\"https://colab.research.google.com/github/codebyabhishek772/Email_sender_using_python_3.8.3/blob/master/Email_sender_using_python.ipynb\" target=\"_parent\"><img src=\"https://colab.research.google.com/assets/colab-badge.svg\" alt=\"Open In Colab\"/></a>"
      ]
    },
    {
      "cell_type": "code",
      "metadata": {
        "id": "euA54I8-bKgD",
        "colab_type": "code",
        "colab": {}
      },
      "source": [
        "import smtplib"
      ],
      "execution_count": 1,
      "outputs": []
    },
    {
      "cell_type": "code",
      "metadata": {
        "id": "6x6ae4lzbQGL",
        "colab_type": "code",
        "colab": {}
      },
      "source": [
        "to = input(\"Enter the Email of sender (email id of who you want to send): \\n\")\n",
        "content = input(\"Enter the content for sending: \\n\")\n",
        "\n",
        "def sendEmail(to, content):\n",
        "  server = smtplib.SMTP('smtp.gmail.com', 587)\n",
        "  server.ehlo()\n",
        "  server.starttls()\n",
        "  server.login('your_gmail_id@gmail.com', 'Password_of_your_gamil')\n",
        "  server.sendmail('your_gmail_id@gmail.com', to, content)\n",
        "  server.close()\n",
        "\n",
        "sendEmail(to, content)"
      ],
      "execution_count": null,
      "outputs": []
    },
    {
      "cell_type": "code",
      "metadata": {
        "id": "9RprR87tb0O3",
        "colab_type": "code",
        "colab": {}
      },
      "source": [
        ""
      ],
      "execution_count": null,
      "outputs": []
    }
  ]
}